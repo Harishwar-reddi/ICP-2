{
  "nbformat": 4,
  "nbformat_minor": 0,
  "metadata": {
    "colab": {
      "provenance": []
    },
    "kernelspec": {
      "name": "python3",
      "display_name": "Python 3"
    },
    "language_info": {
      "name": "python"
    }
  },
  "cells": [
    {
      "cell_type": "markdown",
      "source": [
        "## **Q1**"
      ],
      "metadata": {
        "id": "81FIwIoXClLb"
      }
    },
    {
      "cell_type": "code",
      "source": [
        "ages = [19, 22, 19, 24, 20, 25, 26, 24, 25, 24]\n",
        "\n",
        "#min and max age\n",
        "sorted_ages = sorted(ages)\n",
        "min_age = sorted_ages[0]\n",
        "max_age = sorted_ages[-1]\n",
        "print(f\"Min age: {min_age}\")\n",
        "print(f\"Max age: {max_age}\")\n",
        "\n",
        "# min age and the max age again to the list\n",
        "ages.extend([min_age, max_age])\n",
        "\n",
        "# median age\n",
        "n = len(sorted_ages)\n",
        "if n % 2 == 0:\n",
        "    median_age = (sorted_ages[n//2 - 1] + sorted_ages[n//2]) / 2\n",
        "else:\n",
        "    median_age = sorted_ages[n//2]\n",
        "print(f\"Median age: {median_age}\")\n",
        "\n",
        "#average age\n",
        "average_age = sum(ages) / len(ages)\n",
        "print(f\"Average age: {average_age}\")\n",
        "\n",
        "#range of the ages\n",
        "age_range = max_age - min_age\n",
        "print(f\"Range of ages: {age_range}\")"
      ],
      "metadata": {
        "colab": {
          "base_uri": "https://localhost:8080/"
        },
        "id": "eNQ4I-AnCwWm",
        "outputId": "8c6947b9-637d-412b-f1e6-4c2b172cf017"
      },
      "execution_count": 2,
      "outputs": [
        {
          "output_type": "stream",
          "name": "stdout",
          "text": [
            "Min age: 19\n",
            "Max age: 26\n",
            "Median age: 24.0\n",
            "Average age: 22.75\n",
            "Range of ages: 7\n"
          ]
        }
      ]
    },
    {
      "cell_type": "code",
      "source": [],
      "metadata": {
        "id": "QjM2-MQoCnKL"
      },
      "execution_count": null,
      "outputs": []
    },
    {
      "cell_type": "markdown",
      "source": [
        "##**Q2**"
      ],
      "metadata": {
        "id": "HoufvS3FFhhr"
      }
    },
    {
      "cell_type": "code",
      "source": [
        "dog = {}\n",
        "\n",
        "# Add name, color, breed, legs, age to the dog dictionary\n",
        "dog['name'] = 'nick'\n",
        "dog['color'] = 'Brown'\n",
        "dog['breed'] = 'Golden Retriever'\n",
        "dog['legs'] = 4\n",
        "dog['age'] = 7\n",
        "\n",
        "# Create a student dictionary and add required keys\n",
        "student = {\n",
        "    'first_name': 'Bunny',\n",
        "    'last_name': 'Re',\n",
        "    'gender': 'Male',\n",
        "    'age': 21,\n",
        "    'marital_status': 'Single',\n",
        "    'skills': ['Front-End', 'Full-Stack'],\n",
        "    'country': 'USA',\n",
        "    'city': 'Kansas city',\n",
        "    'address': '115 Broad St'\n",
        "}\n",
        "\n",
        "#length of the student\n",
        "print(f\"Length of student dictionary: {len(student)}\")\n",
        "\n",
        "#value of skills and data type\n",
        "skills_value = student['skills']\n",
        "print(f\"Skills: {skills_value}, Data type: {type(skills_value)}\")\n",
        "student['skills'].extend(['java', 'Java Developer'])\n",
        "#dictionary keys as a list\n",
        "keys_list = list(student.keys())\n",
        "print(f\"Keys: {keys_list}\")\n",
        "#dictionary values as a list\n",
        "values_list = list(student.values())\n",
        "print(f\"Values: {values_list}\")"
      ],
      "metadata": {
        "colab": {
          "base_uri": "https://localhost:8080/"
        },
        "id": "d-4N-ubTFkwC",
        "outputId": "750f8a15-3582-4da4-9186-6dc4d7e46f9f"
      },
      "execution_count": 4,
      "outputs": [
        {
          "output_type": "stream",
          "name": "stdout",
          "text": [
            "Length of student dictionary: 9\n",
            "Skills: ['Front-End', 'Full-Stack'], Data type: <class 'list'>\n",
            "Keys: ['first_name', 'last_name', 'gender', 'age', 'marital_status', 'skills', 'country', 'city', 'address']\n",
            "Values: ['Bunny', 'Re', 'Male', 21, 'Single', ['Front-End', 'Full-Stack', 'java', 'Java Developer'], 'USA', 'Kansas city', '115 Broad St']\n"
          ]
        }
      ]
    },
    {
      "cell_type": "markdown",
      "source": [
        "##**Q3**"
      ],
      "metadata": {
        "id": "hH-A6cc_Gzzy"
      }
    },
    {
      "cell_type": "code",
      "source": [
        "it_companies = {'facebook', 'Google', 'Microsoft', 'Apple', 'IBM', 'Oracle', 'Amazon'}\n",
        "A = {19, 22, 24, 20, 25, 26}\n",
        "B = {19, 22, 20, 25, 26, 24, 28, 27}\n",
        "age = [22, 19, 24, 25, 26, 24, 25, 24]\n",
        "\n",
        "# Length\n",
        "print(len(it_companies))\n",
        "\n",
        "# Add Twitter\n",
        "it_companies.add('Twitter')\n",
        "\n",
        "# Add multiple companies\n",
        "it_companies.update(['Calix', 'Meta'])\n",
        "\n",
        "# Remove 'Calix'\n",
        "it_companies.discard('Calix')\n",
        "\n",
        "# Union and Intersection of A and B\n",
        "print(A.union(B))\n",
        "print(A.intersection(B))\n",
        "\n",
        "print(A.issubset(B))\n",
        "print(A.isdisjoint(B))\n",
        "\n",
        "# Symmetric difference between A and B\n",
        "print(A.symmetric_difference(B))\n",
        "\n",
        "# Convert age to set and compare lengths\n",
        "age_set = set(age)\n",
        "print(len(age), len(age_set))\n",
        "\n",
        "# Display size before deletion attempt\n",
        "print(f\"Size of it_companies before deletion: {len(it_companies)} items.\")\n",
        "\n",
        "try:\n",
        "    del it_companies\n",
        "except NameError:\n",
        "    print(\"The set it_companies does not exist.\")\n",
        "\n",
        "# Attempt to display size after deletion\n",
        "try:\n",
        "    print(f\"Size of it_companies after deletion: {len(it_companies)} items.\")\n",
        "except NameError:\n",
        "    print(\"The set it_companies has been deleted and does not exist anymore.\")\n"
      ],
      "metadata": {
        "colab": {
          "base_uri": "https://localhost:8080/"
        },
        "id": "BVtnKAJ8G2oU",
        "outputId": "5af4cb34-8bed-4b08-94bc-4ca68ec256f9"
      },
      "execution_count": 23,
      "outputs": [
        {
          "output_type": "stream",
          "name": "stdout",
          "text": [
            "7\n",
            "{19, 20, 22, 24, 25, 26, 27, 28}\n",
            "{19, 20, 22, 24, 25, 26}\n",
            "True\n",
            "False\n",
            "{27, 28}\n",
            "8 5\n",
            "Size of it_companies before deletion: 9 items.\n",
            "The set it_companies has been deleted and does not exist anymore.\n"
          ]
        }
      ]
    },
    {
      "cell_type": "markdown",
      "source": [
        "##**Q4**"
      ],
      "metadata": {
        "id": "eBuhB_NxJLs_"
      }
    },
    {
      "cell_type": "code",
      "source": [
        "class Employee:\n",
        "    employee_count = 0\n",
        "    total_salary = 0\n",
        "\n",
        "    def __init__(self, name, salary):\n",
        "        self.name = name\n",
        "        self.salary = salary\n",
        "        Employee.employee_count += 1\n",
        "        Employee.total_salary += salary\n",
        "\n",
        "    @classmethod\n",
        "    def average_salary(cls):\n",
        "        return cls.total_salary / cls.employee_count\n",
        "\n",
        "\n",
        "class FulltimeEmployee(Employee):\n",
        "    pass\n",
        "\n",
        "#instances\n",
        "e1 = Employee(\"Bunny\", 50000)\n",
        "f1 = FulltimeEmployee(\"Chikki\", 60000)\n",
        "\n",
        "#data\n",
        "print(f\"Total Employees: {Employee.employee_count}\")\n",
        "print(f\"Average Salary: {Employee.average_salary()}\")\n"
      ],
      "metadata": {
        "colab": {
          "base_uri": "https://localhost:8080/"
        },
        "id": "NMmnpcG2JOJV",
        "outputId": "004e8f75-415d-4322-cd41-a4cbad3e75b6"
      },
      "execution_count": 8,
      "outputs": [
        {
          "output_type": "stream",
          "name": "stdout",
          "text": [
            "Total Employees: 2\n",
            "Average Salary: 55000.0\n"
          ]
        }
      ]
    },
    {
      "cell_type": "code",
      "source": [],
      "metadata": {
        "id": "GThvBGxDIJGQ"
      },
      "execution_count": null,
      "outputs": []
    }
  ]
}